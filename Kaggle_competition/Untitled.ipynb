{
 "cells": [
  {
   "cell_type": "code",
   "execution_count": 1,
   "metadata": {
    "collapsed": false
   },
   "outputs": [],
   "source": [
    "import pandas as pd\n",
    "import numpy as np\n",
    "from sklearn.model_selection import KFold, cross_val_score\n",
    "import nltk \n",
    "from nltk.tokenize import sent_tokenize, word_tokenize\n",
    "from nltk.corpus import stopwords\n",
    "from nltk.corpus import state_union\n",
    "from nltk.tokenize import  PunktSentenceTokenizer\n",
    "from string import punctuation\n",
    "import re\n",
    "from nltk.stem import WordNetLemmatizer\n",
    "from nltk.corpus import wordnet\n",
    "from sklearn.feature_extraction.text import CountVectorizer\n"
   ]
  },
  {
   "cell_type": "code",
   "execution_count": 2,
   "metadata": {
    "collapsed": false
   },
   "outputs": [],
   "source": [
    "data= pd.read_csv(\"text_training.csv\", delimiter=\"|\").dropna()"
   ]
  },
  {
   "cell_type": "code",
   "execution_count": 3,
   "metadata": {
    "collapsed": false
   },
   "outputs": [
    {
     "name": "stdout",
     "output_type": "stream",
     "text": [
      "(47999, 3)\n"
     ]
    }
   ],
   "source": [
    "print (data.shape)\n",
    "source = unicode(data[\"Review Text\"][0], 'utf-8')\n",
    "data= data.reindex(np.random.permutation(data.index))"
   ]
  },
  {
   "cell_type": "code",
   "execution_count": 4,
   "metadata": {
    "collapsed": false
   },
   "outputs": [
    {
     "data": {
      "text/plain": [
       "11370"
      ]
     },
     "execution_count": 4,
     "metadata": {},
     "output_type": "execute_result"
    }
   ],
   "source": [
    "len((data[data[\"Category\"]==3]))"
   ]
  },
  {
   "cell_type": "code",
   "execution_count": 5,
   "metadata": {
    "collapsed": false
   },
   "outputs": [],
   "source": [
    "x_train=data[\"Review Text\"]\n",
    "\"\"\"from sklearn.feature_extraction.text import CountVectorizer\n",
    "count_vect = CountVectorizer()\n",
    "X_train_counts = count_vect.fit_transform(x)\n",
    "X_train_counts.shape\"\"\"\n",
    "\n",
    "from sklearn.feature_extraction.text import TfidfVectorizer\n",
    "vectorizer = TfidfVectorizer(min_df=1, max_features= None) #, ngram_range=(1,2)\n",
    "x_data=vectorizer.fit_transform(x_train)\n"
   ]
  },
  {
   "cell_type": "code",
   "execution_count": 6,
   "metadata": {
    "collapsed": false
   },
   "outputs": [],
   "source": [
    "Y_train=data[\"Category\"]\n",
    "X_tr=x_data\n",
    "Y_tr=Y_train\n",
    "X_test=vectorizer.transform(data[\"Review Text\"][42001:])\n",
    "Y_test=Y_train[42001:]\n",
    "\n"
   ]
  },
  {
   "cell_type": "code",
   "execution_count": 7,
   "metadata": {
    "collapsed": false
   },
   "outputs": [
    {
     "data": {
      "text/plain": [
       "(5998, 48597)"
      ]
     },
     "execution_count": 7,
     "metadata": {},
     "output_type": "execute_result"
    }
   ],
   "source": [
    "X_test.shape\n"
   ]
  },
  {
   "cell_type": "code",
   "execution_count": 8,
   "metadata": {
    "collapsed": false
   },
   "outputs": [],
   "source": [
    "from sklearn.linear_model import SGDClassifier\n",
    "from sklearn import svm\n",
    "from sklearn import linear_model\n",
    "from sklearn.decomposition import PCA\n",
    "from sklearn.model_selection import GridSearchCV\n",
    "\n",
    "\n",
    "#clf=SGDClassifier(loss='hinge', penalty='l2',alpha=1e-3, n_iter=5, random_state=42)\n"
   ]
  },
  {
   "cell_type": "code",
   "execution_count": 9,
   "metadata": {
    "collapsed": false,
    "scrolled": true
   },
   "outputs": [],
   "source": [
    "clf=SGDClassifier()\n",
    "parameters={\"alpha\":np.linspace(0.00000001,50, num=100),\n",
    "           \"penalty\":(\"l1\", 'l2')\n",
    "           }\n",
    "gs_clf = GridSearchCV(clf, parameters, n_jobs=-1)\n",
    "gs_clf=gs_clf.fit(X_tr, Y_tr)\n"
   ]
  },
  {
   "cell_type": "code",
   "execution_count": 10,
   "metadata": {
    "collapsed": false
   },
   "outputs": [
    {
     "data": {
      "text/plain": [
       "0.88493510281464194"
      ]
     },
     "execution_count": 10,
     "metadata": {},
     "output_type": "execute_result"
    }
   ],
   "source": [
    "gs_clf.best_score_\n",
    "\n"
   ]
  },
  {
   "cell_type": "code",
   "execution_count": 12,
   "metadata": {
    "collapsed": false
   },
   "outputs": [],
   "source": [
    "clf=svm.LinearSVC() \n",
    "parameters={\"C\":np.linspace(0.0000001,100)}\n",
    "gs_lsvc_clf = GridSearchCV(clf, parameters, n_jobs=-1)\n",
    "gs_lsvc_clf=gs_lsvc_clf.fit(X_tr, Y_tr)"
   ]
  },
  {
   "cell_type": "code",
   "execution_count": null,
   "metadata": {
    "collapsed": false
   },
   "outputs": [],
   "source": [
    "#clf=svm.SVC(kernel=\"poly\") #0.87121780445111274\n",
    "#clf=linear_model.LogisticRegression(penalty=\"l1\") #0.86271567891972989\n",
    "clf=svm.SVC(kernel=\"poly\") \n",
    "parameters={\"C\":np.linspace(0.0000001,50)}\n",
    "gs_lsvc_clf = GridSearchCV(clf, parameters, n_jobs=-1)\n",
    "gs_lsvc_clf=gs_lsvc_clf.fit(X_tr, Y_tr)"
   ]
  },
  {
   "cell_type": "code",
   "execution_count": 89,
   "metadata": {
    "collapsed": true
   },
   "outputs": [],
   "source": [
    "predicted=gs_lsvc_clf.predict(X_test)\n",
    "accuracy= np.mean(predicted==Y_test)"
   ]
  },
  {
   "cell_type": "code",
   "execution_count": 13,
   "metadata": {
    "collapsed": false
   },
   "outputs": [
    {
     "data": {
      "text/plain": [
       "0.90351882330881894"
      ]
     },
     "execution_count": 13,
     "metadata": {},
     "output_type": "execute_result"
    }
   ],
   "source": [
    "gs_lsvc_clf.best_score_"
   ]
  },
  {
   "cell_type": "code",
   "execution_count": 24,
   "metadata": {
    "collapsed": false
   },
   "outputs": [],
   "source": [
    "from sklearn.naive_bayes import MultinomialNB\n",
    "clf=MultinomialNB(fit_prior=True)\n",
    "parameters={\"alpha\":np.linspace(0.000000001,100, num=500)}\n",
    "gs_nb_clf=GridSearchCV(clf, parameters, n_jobs=-1)\n",
    "gs_nb_clf=gs_nb_clf.fit(X_tr, Y_tr)"
   ]
  },
  {
   "cell_type": "code",
   "execution_count": 25,
   "metadata": {
    "collapsed": false
   },
   "outputs": [
    {
     "data": {
      "text/plain": [
       "0.86326798474968225"
      ]
     },
     "execution_count": 25,
     "metadata": {},
     "output_type": "execute_result"
    }
   ],
   "source": [
    "gs_nb_clf.best_score_"
   ]
  },
  {
   "cell_type": "code",
   "execution_count": 27,
   "metadata": {
    "collapsed": false
   },
   "outputs": [],
   "source": [
    "data_kaggle=pd.read_csv(\"test.csv\",delimiter=\"|\")"
   ]
  },
  {
   "cell_type": "code",
   "execution_count": null,
   "metadata": {
    "collapsed": true
   },
   "outputs": [],
   "source": []
  },
  {
   "cell_type": "code",
   "execution_count": 28,
   "metadata": {
    "collapsed": false
   },
   "outputs": [],
   "source": [
    "data_kaggle.head()\n",
    "kaggle_text=data_kaggle[\"Review Text\"]\n",
    "kaggle_processed= vectorizer.transform(kaggle_text)\n"
   ]
  },
  {
   "cell_type": "code",
   "execution_count": 29,
   "metadata": {
    "collapsed": true
   },
   "outputs": [],
   "source": [
    "kaggle_predict=gs_clf.predict(kaggle_processed)"
   ]
  },
  {
   "cell_type": "code",
   "execution_count": 30,
   "metadata": {
    "collapsed": false
   },
   "outputs": [
    {
     "data": {
      "text/plain": [
       "(12000,)"
      ]
     },
     "execution_count": 30,
     "metadata": {},
     "output_type": "execute_result"
    }
   ],
   "source": [
    "submission=pd.DataFrame({\"ID\": data_kaggle[\"ID\"]})\n",
    "submission[\"Category\"]=kaggle_predict\n",
    "submission[\"ID\"].shape"
   ]
  },
  {
   "cell_type": "code",
   "execution_count": 31,
   "metadata": {
    "collapsed": true
   },
   "outputs": [],
   "source": [
    "submission.to_csv(\"submission.csv\")"
   ]
  },
  {
   "cell_type": "code",
   "execution_count": null,
   "metadata": {
    "collapsed": true
   },
   "outputs": [],
   "source": [
    "def lemma(sents): #Lemmatizing the  words \n",
    "    tagged_POS_sents = [nltk.pos_tag(sent) for sent in sents]\n",
    "    lemma= WordNetLemmatizer()\n",
    "    word_lemma=[]\n",
    "    for sent in tagged_POS_sents:\n",
    "        intermediary=[]\n",
    "        for word in sent: # Lemmatising according to the POS to maintain integrity of meaning\n",
    "            if word[1][:2] == \"NN\" or word[1][:2] == \"JJ\" or word[1][:2] == \"VB\" or word[1][:2] == \"RB\":  \n",
    "                lemma_tag = {'NN':wordnet.NOUN,'JJ':wordnet.ADJ,'VB':wordnet.VERB,'RB':wordnet.ADV}\n",
    "                intermediary.append(lemma.lemmatize(word[0], pos=lemma_tag[word[1][:2]]))\n",
    "            else:\n",
    "               intermediary.append(lemma.lemmatize(word[0]))\n",
    "        word_lemma.append(intermediary)\n",
    "    return word_lemma\n",
    "                                  \n"
   ]
  },
  {
   "cell_type": "markdown",
   "metadata": {},
   "source": [
    "1+1"
   ]
  },
  {
   "cell_type": "code",
   "execution_count": null,
   "metadata": {
    "collapsed": true
   },
   "outputs": [],
   "source": [
    "a= lemma(x_label)nf = 4\n",
    "pca = PCA(n_components=nf)\n",
    "# X is the matrix transposed (n samples on the rows, m features on the columns)\n",
    "pca.fit(X_tr.toarray())\n",
    "\n",
    "X_new = pca.transform(X_tr.toarray())"
   ]
  },
  {
   "cell_type": "code",
   "execution_count": 1,
   "metadata": {
    "collapsed": false
   },
   "outputs": [
    {
     "data": {
      "text/plain": [
       "2"
      ]
     },
     "execution_count": 1,
     "metadata": {},
     "output_type": "execute_result"
    }
   ],
   "source": [
    "1+1"
   ]
  },
  {
   "cell_type": "code",
   "execution_count": null,
   "metadata": {
    "collapsed": true
   },
   "outputs": [],
   "source": []
  }
 ],
 "metadata": {
  "anaconda-cloud": {},
  "kernelspec": {
   "display_name": "Python [conda env:python2]",
   "language": "python",
   "name": "conda-env-python2-py"
  },
  "language_info": {
   "codemirror_mode": {
    "name": "ipython",
    "version": 2
   },
   "file_extension": ".py",
   "mimetype": "text/x-python",
   "name": "python",
   "nbconvert_exporter": "python",
   "pygments_lexer": "ipython2",
   "version": "2.7.12"
  }
 },
 "nbformat": 4,
 "nbformat_minor": 0
}
