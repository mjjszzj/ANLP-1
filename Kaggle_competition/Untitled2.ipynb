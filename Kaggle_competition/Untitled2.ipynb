{
 "cells": [
  {
   "cell_type": "code",
   "execution_count": 1,
   "metadata": {
    "collapsed": true
   },
   "outputs": [],
   "source": [
    "import pandas as pd\n",
    "import numpy as np\n",
    "from sklearn.model_selection import KFold, cross_val_score\n",
    "import nltk \n",
    "from nltk.tokenize import sent_tokenize, word_tokenize\n",
    "from nltk.corpus import stopwords\n",
    "from nltk.corpus import state_union\n",
    "from nltk.tokenize import  PunktSentenceTokenizer\n",
    "from string import punctuation\n",
    "import re\n",
    "from nltk.stem import WordNetLemmatizer\n",
    "from nltk.corpus import wordnet\n",
    "from sklearn.feature_extraction.text import CountVectorizer\n",
    "import sklearn.metrics as metrics\n",
    "import scipy\n"
   ]
  },
  {
   "cell_type": "code",
   "execution_count": 2,
   "metadata": {
    "collapsed": true
   },
   "outputs": [],
   "source": [
    "data= pd.read_csv(\"text_training.csv\", delimiter=\"|\").dropna()"
   ]
  },
  {
   "cell_type": "code",
   "execution_count": 3,
   "metadata": {
    "collapsed": false
   },
   "outputs": [
    {
     "name": "stdout",
     "output_type": "stream",
     "text": [
      "(47999, 3)\n"
     ]
    }
   ],
   "source": [
    "print (data.shape)\n",
    "source = unicode(data[\"Review Text\"][0], 'utf-8')\n",
    "data= data.reindex(np.random.permutation(data.index))"
   ]
  },
  {
   "cell_type": "code",
   "execution_count": 4,
   "metadata": {
    "collapsed": true
   },
   "outputs": [],
   "source": [
    "x_train=data[\"Review Text\"]\n",
    "\"\"\"from sklearn.feature_extraction.text import CountVectorizer\n",
    "count_vect = CountVectorizer()\n",
    "X_train_counts = count_vect.fit_transform(x)\n",
    "X_train_counts.shape\"\"\"\n",
    "\n",
    "from sklearn.feature_extraction.text import TfidfVectorizer\n",
    "vectorizer = TfidfVectorizer(min_df=1, max_features= None) #, ngram_range=(1,2)\n",
    "x_data=vectorizer.fit_transform(x_train)\n",
    "Y_train=data[\"Category\"]\n",
    "\n"
   ]
  },
  {
   "cell_type": "code",
   "execution_count": 5,
   "metadata": {
    "collapsed": true
   },
   "outputs": [],
   "source": [
    "Y_train=data[\"Category\"]\n",
    "X_tr=x_data[:42000]\n",
    "Y_tr=Y_train[:42000]\n",
    "X_test=vectorizer.transform(data[\"Review Text\"][42001:])\n",
    "Y_test=Y_train[42001:]\n",
    "\n"
   ]
  },
  {
   "cell_type": "code",
   "execution_count": 6,
   "metadata": {
    "collapsed": false
   },
   "outputs": [],
   "source": [
    "def one_hot(labels_train):\n",
    "    return np.eye(6)[labels_train]\n",
    "\n"
   ]
  },
  {
   "cell_type": "code",
   "execution_count": 7,
   "metadata": {
    "collapsed": false
   },
   "outputs": [],
   "source": [
    "dim=X_tr.shape[1]\n",
    "w=np.random.normal(0, 0.1, (dim, 16000))\n",
    "b= np.random.uniform(0, 2*np.pi, 16000)"
   ]
  },
  {
   "cell_type": "code",
   "execution_count": 8,
   "metadata": {
    "collapsed": true
   },
   "outputs": [],
   "source": [
    "def phi(X):\n",
    "     return np.cos(X.dot(w) + b) "
   ]
  },
  {
   "cell_type": "code",
   "execution_count": 9,
   "metadata": {
    "collapsed": false
   },
   "outputs": [
    {
     "data": {
      "text/plain": [
       "(42000, 48597)"
      ]
     },
     "execution_count": 9,
     "metadata": {},
     "output_type": "execute_result"
    }
   ],
   "source": [
    "X_tr.shape"
   ]
  },
  {
   "cell_type": "code",
   "execution_count": null,
   "metadata": {
    "collapsed": true
   },
   "outputs": [],
   "source": []
  },
  {
   "cell_type": "code",
   "execution_count": null,
   "metadata": {
    "collapsed": true
   },
   "outputs": [],
   "source": []
  },
  {
   "cell_type": "code",
   "execution_count": 10,
   "metadata": {
    "collapsed": false
   },
   "outputs": [],
   "source": [
    "Y_tr= Y_tr-1\n",
    "Y_tr=one_hot(Y_tr.astype(int))\n",
    "Y_test= Y_test-1\n",
    "Y_test=one_hot(Y_test.astype(int))\n",
    "X_test=phi(X_test)\n",
    "X_tr=phi(X_tr)"
   ]
  },
  {
   "cell_type": "code",
   "execution_count": 11,
   "metadata": {
    "collapsed": true
   },
   "outputs": [],
   "source": [
    "def train(X_train, y_train, reg=0):\n",
    "    xtx = X_train.T.dot(X_train)\n",
    "    return scipy.linalg.solve(xtx + reg*np.eye(xtx.shape[0]), X_train.T.dot(y_train), sym_pos=True)\n",
    "    "
   ]
  },
  {
   "cell_type": "code",
   "execution_count": 12,
   "metadata": {
    "collapsed": true
   },
   "outputs": [],
   "source": [
    "def predict(model, X):\n",
    "    ''' From model and data points, output prediction vectors '''\n",
    "    return np.argmax(X.dot(model), axis=1)\n",
    "\n"
   ]
  },
  {
   "cell_type": "code",
   "execution_count": 13,
   "metadata": {
    "collapsed": false
   },
   "outputs": [],
   "source": [
    "model = train(X_tr,Y_tr, reg=100)"
   ]
  },
  {
   "cell_type": "code",
   "execution_count": 14,
   "metadata": {
    "collapsed": false
   },
   "outputs": [
    {
     "name": "stdout",
     "output_type": "stream",
     "text": [
      "The history saving thread hit an unexpected error (OperationalError('unable to open database file',)).History will not be written to the database.\n"
     ]
    }
   ],
   "source": [
    "pred_labels_train = predict(model, X_tr)\n",
    "pred_labels_test = predict(model, X_test)"
   ]
  },
  {
   "cell_type": "code",
   "execution_count": 15,
   "metadata": {
    "collapsed": false
   },
   "outputs": [
    {
     "name": "stdout",
     "output_type": "stream",
     "text": [
      "Closed form solution\n",
      "Train accuracy: 0.950357142857\n",
      "Test accuracy: 0.903801267089\n"
     ]
    }
   ],
   "source": [
    "pred_labels_train+=1\n",
    "pred_labels_test+=1\n",
    "print(\"Closed form solution\")\n",
    "print(\"Train accuracy: {0}\".format(metrics.accuracy_score(Y_train[:42000], pred_labels_train)))\n",
    "print(\"Test accuracy: {0}\".format(metrics.accuracy_score(Y_train[42001:], pred_labels_test)))\n",
    "\n"
   ]
  },
  {
   "cell_type": "code",
   "execution_count": null,
   "metadata": {
    "collapsed": true
   },
   "outputs": [],
   "source": [
    "from sklearn.linear_model import SGDClassifier\n",
    "from sklearn import svm\n",
    "from sklearn import linear_model\n",
    "from sklearn.decomposition import PCA\n",
    "from sklearn.model_selection import GridSearchCV\n",
    "\n"
   ]
  },
  {
   "cell_type": "code",
   "execution_count": null,
   "metadata": {
    "collapsed": false,
    "scrolled": true
   },
   "outputs": [],
   "source": [
    "clf=SGDClassifier(penalty=\"l2\", alpha=100)\n",
    "\"\"\"parameters={\"alpha\":np.linspace(0.0001,50, num=1),\n",
    "           }\n",
    "gs_clf = GridSearchCV(clf, parameters, n_jobs=-1, verbose=20)\n",
    "gs_clf=gs_clf.fit(X_tr, Y_tr)\"\"\"\n",
    "\n",
    "clf.fit(X_tr, Y_tr)"
   ]
  },
  {
   "cell_type": "code",
   "execution_count": null,
   "metadata": {
    "collapsed": true
   },
   "outputs": [],
   "source": [
    "\n",
    "predict=clf.predict(X_test)"
   ]
  },
  {
   "cell_type": "code",
   "execution_count": null,
   "metadata": {
    "collapsed": false
   },
   "outputs": [],
   "source": [
    "accuracy= np.mean(predict==Y_test)"
   ]
  },
  {
   "cell_type": "code",
   "execution_count": null,
   "metadata": {
    "collapsed": false
   },
   "outputs": [],
   "source": [
    "accuracy"
   ]
  },
  {
   "cell_type": "code",
   "execution_count": null,
   "metadata": {
    "collapsed": true
   },
   "outputs": [],
   "source": []
  },
  {
   "cell_type": "code",
   "execution_count": null,
   "metadata": {
    "collapsed": true
   },
   "outputs": [],
   "source": []
  },
  {
   "cell_type": "code",
   "execution_count": null,
   "metadata": {
    "collapsed": true
   },
   "outputs": [],
   "source": []
  },
  {
   "cell_type": "markdown",
   "metadata": {},
   "source": [
    "from mnist import MNIST\n",
    "import random\n",
    "import sklearn.metrics as metrics\n",
    "import numpy as np\n",
    "import scipy\n",
    "\n",
    "NUM_CLASSES = 10\n",
    "dim = 784\n",
    "d = 4000\n",
    "w = np.random.normal(0, 0.1, (dim, d))\n",
    "b = np.random.uniform(0, 2*np.pi, d)\n",
    "\n",
    "def load_dataset():\n",
    "    mndata = MNIST('./data/')\n",
    "    X_train, labels_train = map(np.array, mndata.load_training())\n",
    "    X_test, labels_test = map(np.array, mndata.load_testing())\n",
    "    X_train = X_train/255.0\n",
    "    X_test = X_test/255.0\n",
    "    return (X_train, labels_train), (X_test, labels_test)\n",
    "\n",
    "\n",
    "def train(X_train, y_train, reg=0):\n",
    "    ''' Build a model from X_train -> y_train '''\n",
    "    xtx = X_train.T.dot(X_train)\n",
    "    return scipy.linalg.solve(xtx + reg*np.eye(xtx.shape[0]), X_train.T.dot(y_train), sym_pos=True)\n",
    "\n",
    "def train_gd(X_train, y_train, alpha=0.1, reg=0, num_iter=10000):\n",
    "    ''' Build a model from X_train -> y_train using batch gradient descent '''\n",
    "    xtx = X_train.T.dot(X_train)\n",
    "    xty = X_train.T.dot(y_train)\n",
    "    xtx /= float(X_train.shape[0])\n",
    "    xty /= float(X_train.shape[0])\n",
    "    W = np.random.normal(0, 0.3, (X_train.shape[1], NUM_CLASSES))\n",
    "    for i in range(num_iter):\n",
    "        gradient = (xtx + reg*np.eye(xtx.shape[0])).dot(W) - xty\n",
    "        W -= alpha * gradient\n",
    "    return W\n",
    "\n",
    "def train_sgd(X_train, y_train, alpha=0.1, reg=0, num_iter=10000):\n",
    "    ''' Build a model from X_train -> y_train using stochastic gradient descent '''\n",
    "    W = np.random.normal(0, 0.3, (X_train.shape[1], NUM_CLASSES))\n",
    "    for i in range(num_iter):\n",
    "        sample_index = random.randint(0, X_train.shape[0] - 1)\n",
    "        x_i, y_i = X_train[sample_index], y_train[sample_index]\n",
    "        xtx = np.outer(x_i, x_i.T)\n",
    "        xty = np.outer(x_i, y_i.T)\n",
    "        gradient = (xtx + reg*np.eye(xtx.shape[0])).dot(W) - xty\n",
    "        W -= alpha * gradient\n",
    "    return W\n",
    "\n",
    "def one_hot(labels_train):\n",
    "    '''Convert categorical labels 0,1,2,....9 to standard basis vectors in R^{10} '''\n",
    "    return np.eye(NUM_CLASSES)[labels_train]\n",
    "\n",
    "def predict(model, X):\n",
    "    ''' From model and data points, output prediction vectors '''\n",
    "    return np.argmax(X.dot(model), axis=1)\n",
    "\n",
    "def phi(X):\n",
    "    ''' Multiply the 784-dimensional MNIST vectors by unit normal '''\n",
    "    return np.cos(X.dot(w) + b) \n",
    "\n",
    "\n",
    "if __name__ == \"__main__\":\n",
    "    (X_train, labels_train), (X_test, labels_test) = load_dataset()\n",
    "    y_train = one_hot(labels_train)\n",
    "    y_test = one_hot(labels_test)\n",
    "    X_train, X_test = phi(X_train), phi(X_test)\n",
    "\n",
    "    model = train(X_train, y_train, reg=0.1)\n",
    "    pred_labels_train = predict(model, X_train)\n",
    "    pred_labels_test = predict(model, X_test)\n",
    "    print(\"Closed form solution\")\n",
    "    print(\"Train accuracy: {0}\".format(metrics.accuracy_score(labels_train, pred_labels_train)))\n",
    "    print(\"Test accuracy: {0}\".format(metrics.accuracy_score(labels_test, pred_labels_test)))\n",
    "\n",
    "    model = train_gd(X_train, y_train, alpha=1e-3, reg=0.1, num_iter=20000)\n",
    "    pred_labels_train = predict(model, X_train)\n",
    "    pred_labels_test = predict(model, X_test)\n",
    "    print(\"Batch gradient descent\")\n",
    "    print(\"Train accuracy: {0}\".format(metrics.accuracy_score(labels_train, pred_labels_train)))\n",
    "    print(\"Test accuracy: {0}\".format(metrics.accuracy_score(labels_test, pred_labels_test)))\n",
    "\n",
    "    model = train_sgd(X_train, y_train, alpha=1e-3, reg=0.1, num_iter=100000)\n",
    "    pred_labels_train = predict(model, X_train)\n",
    "    pred_labels_test = predict(model, X_test)\n",
    "    print(\"Stochastic gradient descent\")\n",
    "    print(\"Train accuracy: {0}\".format(metrics.accuracy_score(labels_train, pred_labels_train)))\n",
    "    print(\"Test accuracy: {0}\".format(metrics.accuracy_score(labels_test, pred_labels_test)))\n",
    "\n"
   ]
  }
 ],
 "metadata": {
  "anaconda-cloud": {},
  "kernelspec": {
   "display_name": "Python [conda env:python2]",
   "language": "python",
   "name": "conda-env-python2-py"
  },
  "language_info": {
   "codemirror_mode": {
    "name": "ipython",
    "version": 2
   },
   "file_extension": ".py",
   "mimetype": "text/x-python",
   "name": "python",
   "nbconvert_exporter": "python",
   "pygments_lexer": "ipython2",
   "version": "2.7.12"
  }
 },
 "nbformat": 4,
 "nbformat_minor": 1
}
